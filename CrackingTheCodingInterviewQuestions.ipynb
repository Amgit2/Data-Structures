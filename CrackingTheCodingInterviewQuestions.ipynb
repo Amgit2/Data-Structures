{
  "nbformat": 4,
  "nbformat_minor": 0,
  "metadata": {
    "colab": {
      "name": "CrackingTheCodingInterviewQuestions.ipynb",
      "provenance": [],
      "collapsed_sections": [],
      "toc_visible": true
    },
    "kernelspec": {
      "name": "python3",
      "display_name": "Python 3"
    },
    "language_info": {
      "name": "python"
    }
  },
  "cells": [
    {
      "cell_type": "markdown",
      "metadata": {
        "id": "0bSvVZoXMXtf"
      },
      "source": [
        "#Welcome Saars! \n",
        "\n"
      ]
    },
    {
      "cell_type": "markdown",
      "metadata": {
        "id": "Vp2VeNnvZfEx"
      },
      "source": [
        "# Chapter 1 Arrays and Lists"
      ]
    },
    {
      "cell_type": "markdown",
      "metadata": {
        "id": "zhbWaxu7aBSt"
      },
      "source": [
        "### Question 1. Check for Duplicates - Amit\n",
        "\n",
        "---\n",
        "\n"
      ]
    },
    {
      "cell_type": "code",
      "metadata": {
        "colab": {
          "base_uri": "https://localhost:8080/"
        },
        "id": "YF54yRoLaIrm",
        "outputId": "0d7dddb9-853e-42ad-da59-5a359d7fa1fa"
      },
      "source": [
        "def containsDuplicate(nums):\n",
        "        dic = {}\n",
        "        for i in nums:\n",
        "            if i in dic:\n",
        "                return True\n",
        "            else:\n",
        "                dic[i] = 1\n",
        "        \n",
        "        return False\n",
        "print(containsDuplicate([1,2,3,4]))\n",
        "print(containsDuplicate([1,2,3,1]))"
      ],
      "execution_count": null,
      "outputs": [
        {
          "output_type": "stream",
          "text": [
            "False\n",
            "True\n"
          ],
          "name": "stdout"
        }
      ]
    },
    {
      "cell_type": "code",
      "metadata": {
        "id": "19Ka6s-WaTgb"
      },
      "source": [
        ""
      ],
      "execution_count": null,
      "outputs": []
    },
    {
      "cell_type": "markdown",
      "metadata": {
        "id": "FZjFTM5CMxlf"
      },
      "source": [
        "### Question 2. Given two strings write a method to decide if one is a permutation"
      ]
    },
    {
      "cell_type": "code",
      "metadata": {
        "id": "MoOCrurLOSFk"
      },
      "source": [
        "def checkForPermutation(str1, str2):\n",
        "    #the lengths of the strings have to be the same for permutation checks\n",
        "    value = False\n",
        "\n",
        "    if(len(str1) == len(str2)):\n",
        "        value = (sorted(str1) == sorted(str2))\n",
        "        print('yes')\n",
        "        return value\n",
        "    else:\n",
        "        print('no')\n",
        "        return False\n",
        "\n",
        "\n",
        "checkForPermutation('Apple', 'poopoo')"
      ],
      "execution_count": null,
      "outputs": []
    },
    {
      "cell_type": "markdown",
      "metadata": {
        "id": "crjyfZ0yBEnx"
      },
      "source": [
        "### Question 3. Replace Spaces with %20 - Kartik\n",
        "\n",
        "---"
      ]
    },
    {
      "cell_type": "code",
      "metadata": {
        "colab": {
          "base_uri": "https://localhost:8080/"
        },
        "id": "8yRh5yNr-RHL",
        "outputId": "ce258da6-9a7d-4978-a8d7-494eea0eacc7"
      },
      "source": [
        "#Inital Algo\n",
        "def replace_strings(string,size):\n",
        "  temp = list(string)\n",
        "  output= \"\"\n",
        "  for x in range(size):\n",
        "    if temp[x] == \" \":\n",
        "      output +=\"%20\"\n",
        "    else:\n",
        "      output +=temp[x]\n",
        "  return output\n",
        "\n",
        "print(replace_strings(\"This is a sentence   \",18))\n",
        "\n",
        "#Python Easier Algo <-LOL the python classic\n",
        "new = string.strip().replace(\" \",\"%20\")\n",
        "return new"
      ],
      "execution_count": null,
      "outputs": [
        {
          "output_type": "stream",
          "text": [
            "This%20is%20a%20sentence\n"
          ],
          "name": "stdout"
        }
      ]
    },
    {
      "cell_type": "markdown",
      "metadata": {
        "id": "PZq5NbCCaz9J"
      },
      "source": [
        "### Question 4. Palindrome Permutation- Amit \n"
      ]
    },
    {
      "cell_type": "code",
      "metadata": {
        "colab": {
          "base_uri": "https://localhost:8080/"
        },
        "id": "htiNQG6ha2Gp",
        "outputId": "8922615c-f0a9-4256-eba4-61bcc7ff4cfe"
      },
      "source": [
        "def checkPalindrome(input_string):\n",
        "  dic = {}\n",
        "  length = len(input_string)\n",
        "  for i in input_string:\n",
        "    if i in dic:\n",
        "      dic[i] += 1\n",
        "    else:\n",
        "      dic[i] = 1\n",
        "  if length%2 == 1:\n",
        "    return checkOddPal(dic)\n",
        "  else:\n",
        "    return checkEvenPal(dic)\n",
        "\n",
        "def checkOddPal(dic):\n",
        "  count = 0\n",
        "  for key in dic: \n",
        "    if dic[key]%2 == 1:\n",
        "        count += 1\n",
        "        if count > 1:\n",
        "          return False\n",
        "  return True\n",
        "def checkEvenPal(dic):\n",
        "  for key in dic: \n",
        "    if dic[key]%2 ==1: \n",
        "      return False\n",
        "  return True\n",
        "# I probably dont have to use different methods for odds and evens\n",
        "print(checkPalindrome(\"baabc\"))"
      ],
      "execution_count": null,
      "outputs": [
        {
          "output_type": "stream",
          "text": [
            "True\n"
          ],
          "name": "stdout"
        }
      ]
    },
    {
      "cell_type": "markdown",
      "metadata": {
        "id": "7eqvURVTNYIY"
      },
      "source": [
        "### Question 5. One Away"
      ]
    },
    {
      "cell_type": "code",
      "metadata": {
        "id": "pY6vYSWaOa4H"
      },
      "source": [
        "def isEditDistanceOne(s1, s2):\n",
        "\n",
        "    # Find lengths of given strings\n",
        "    m = len(s1)\n",
        "    n = len(s2)\n",
        "\n",
        "    # If difference between lengths is more than 1,\n",
        "    # then strings can't be at one distance\n",
        "    if abs(m - n) > 1:\n",
        "        return false\n",
        "\n",
        "    count = 0 # Count of isEditDistanceOne\n",
        "\n",
        "    i = 0\n",
        "    j = 0\n",
        "    while i < m and j < n:\n",
        "        # If current characters dont match\n",
        "        if s1[i] != s2[j]:\n",
        "            if count == 1:\n",
        "                return false\n",
        "\n",
        "            # If length of one string is\n",
        "            # more, then only possible edit\n",
        "            # is to remove a character\n",
        "            if m > n:\n",
        "                i+=1\n",
        "            elif m < n:\n",
        "                j+=1\n",
        "            else: # If lengths of both strings is same\n",
        "                i+=1\n",
        "                j+=1\n",
        "\n",
        "            # Increment count of edits\n",
        "            count+=1\n",
        "\n",
        "        else: # if current characters match\n",
        "            i+=1\n",
        "            j+=1\n",
        "\n",
        "    # if last character is extra in any string\n",
        "    if i < m or j < n:\n",
        "        count+=1\n",
        "\n",
        "    return count == 1\n",
        "\n",
        "s1 = \"gfg\"\n",
        "s2 = \"gf\"\n",
        "if isEditDistanceOne(s1, s2):\n",
        "    print(\"Yes\")\n",
        "else:\n",
        "    print (\"No\")"
      ],
      "execution_count": null,
      "outputs": []
    },
    {
      "cell_type": "markdown",
      "metadata": {
        "id": "FqUzY8osB3JK"
      },
      "source": [
        "### Question 6. Basic compression using counts of repeated Characters - Kartik\n",
        "ex: aabcccccaaa = a2b1c5a3\n",
        "---"
      ]
    },
    {
      "cell_type": "code",
      "metadata": {
        "id": "sv2ySnBge7yI",
        "colab": {
          "base_uri": "https://localhost:8080/"
        },
        "outputId": "1d8c9719-c310-4ed9-b758-2ec931bdf642"
      },
      "source": [
        "def compress(string):\n",
        "  compressed = \"\"\n",
        "  cur = string[0]\n",
        "  counter = 0\n",
        "  for x in string:\n",
        "    if x == cur:\n",
        "      counter += 1\n",
        "    else:\n",
        "      compressed += cur + str(counter)\n",
        "      cur = x\n",
        "      counter = 1\n",
        "  compressed += cur + str(counter)\n",
        "\n",
        "  if len(compressed) < len(string):\n",
        "    return compressed\n",
        "  else:\n",
        "    return string\n",
        "\n",
        "print(compress(\"ABBBBBBcD\"))"
      ],
      "execution_count": null,
      "outputs": [
        {
          "output_type": "stream",
          "text": [
            "A1B6c1D1\n"
          ],
          "name": "stdout"
        }
      ]
    },
    {
      "cell_type": "markdown",
      "metadata": {
        "id": "-t7GYW8moI1B"
      },
      "source": [
        "\n",
        "### Question 7. Rotate Matrix - Amit"
      ]
    },
    {
      "cell_type": "code",
      "metadata": {
        "id": "ge6-VMGIoOLQ",
        "colab": {
          "base_uri": "https://localhost:8080/"
        },
        "outputId": "cdd77cd8-b028-473d-ed3d-2797cac05b65"
      },
      "source": [
        "def rotate(matrix):\n",
        "  copy = matrix.copy()\n",
        "  n = len(matrix[0])-1\n",
        "  for i in n:\n",
        "    for j in n:\n",
        "      a,b = copyvals()\n",
        "      matrix[i][j] = copy[a][b]\n",
        "  \n",
        "def copyvals(i,j,n):\n",
        "  if i != n and j == 0:\n",
        "    # didnt save my work, ill add it through out the day\n",
        "\n",
        "  return a,b\n",
        "'''\n",
        "  matrix[0][2] = copy[0][0]\n",
        "  matrix[1][2] = copy[0][1]\n",
        "  matrix[2][2] = copy[0][2]\n",
        "  matrix[2][1]\n",
        "  matrix[2][0]\n",
        "  matrix[1][0]\n",
        "  matrix[0][0]\n",
        "  matrix[0][1]\n",
        "  \n",
        "  matrix[1][1] = first[1]\n",
        "  matrix[1][0] = second[1]\n",
        "  matrix[0][0] = second[0]\n",
        "  print(matrix)'''\n",
        "\n",
        "matrix = [[1 ,2, 3], \n",
        "          [4, 5, 6], \n",
        "          [7, 8, 9]]\n",
        "rotate(matrix)"
      ],
      "execution_count": null,
      "outputs": [
        {
          "output_type": "stream",
          "text": [
            "[[3, 1], [4, 2]]\n"
          ],
          "name": "stdout"
        }
      ]
    },
    {
      "cell_type": "code",
      "metadata": {
        "id": "Yh9eWxwKNyBq"
      },
      "source": [
        ""
      ],
      "execution_count": null,
      "outputs": []
    },
    {
      "cell_type": "markdown",
      "metadata": {
        "id": "Hs_l8pWoOmpu"
      },
      "source": [
        "### Question 8. Set Matrix to Zeros"
      ]
    },
    {
      "cell_type": "code",
      "metadata": {
        "id": "pRF1rR17Ot_b"
      },
      "source": [
        "class Solution(object):\n",
        "    def setZeroes(self, matrix):\n",
        "        \"\"\"\n",
        "        :type matrix: List[List[int]]\n",
        "        :rtype: void Do not return anything, modify matrix in-place instead.\n",
        "        \"\"\"\n",
        "        R = len(matrix)\n",
        "        C = len(matrix[0])\n",
        "        rows, cols = set(), set()\n",
        "\n",
        "        # Essentially, we mark the rows and columns that are to be made zero\n",
        "        for i in range(R):\n",
        "            for j in range(C):\n",
        "                if matrix[i][j] == 0:\n",
        "                    rows.add(i)\n",
        "                    cols.add(j)\n",
        "\n",
        "        # Iterate over the array once again and using the rows and cols sets, update the elements\n",
        "        for i in range(R):\n",
        "            for j in range(C):\n",
        "                if i in rows or j in cols:\n",
        "                    matrix[i][j] = 0"
      ],
      "execution_count": null,
      "outputs": []
    },
    {
      "cell_type": "markdown",
      "metadata": {
        "id": "tOepQdmsD_7p"
      },
      "source": [
        "### Question 9. Given Method isSubstring and 2 strings S1, S2. Check if S2 is a rotation of S1 using 1 call to isSubstring - Kartik\n",
        "ex: s1 waterbottle, s2 erbottlewat\n",
        "\n",
        "---"
      ]
    },
    {
      "cell_type": "code",
      "metadata": {
        "id": "2fO5cisPFozz"
      },
      "source": [
        "def stringRotation(s1,s2):\n",
        "  return isSubstring(s1,s2+s2)\n",
        "\n",
        "#I Used the hint here. erbottlewat when concatenated to itself would be: erbottlewaterbottlewat\n",
        "# Since the string s1 is present in that concatenated string, isSubstring would return true and hence s2 is a rotation of s1\n",
        "\n",
        "# print(stringRotation(\"waterbottle\",\"erbottlewat\")) <- Doesnt work since isSubstring is supposed to be given"
      ],
      "execution_count": null,
      "outputs": []
    },
    {
      "cell_type": "markdown",
      "metadata": {
        "id": "m5riTkxvJv4B"
      },
      "source": [
        "# Chapter 2 Linked Lists"
      ]
    },
    {
      "cell_type": "markdown",
      "metadata": {
        "id": "L7VDcNYFiL4o"
      },
      "source": [
        "### Linked List Class "
      ]
    },
    {
      "cell_type": "code",
      "metadata": {
        "id": "Ol4tSjC7J7aa"
      },
      "source": [
        "class LLNode: \n",
        "  def __init__(self, val=None):\n",
        "        self.val = val\n",
        "        self.next = None\n",
        "\n",
        "class SLinkedList:\n",
        "    def __init__(self):\n",
        "        self.headval = None\n",
        "    \n",
        "    #Printing the Linked List for debugging\n",
        "    def printList(self):\n",
        "        curval = self.headval\n",
        "        while curval != None:\n",
        "          print(curval.val)\n",
        "          curval = curval.next"
      ],
      "execution_count": null,
      "outputs": []
    },
    {
      "cell_type": "markdown",
      "metadata": {
        "id": "6ygLy-wxFE_N"
      },
      "source": [
        "### Example of Creating Linked List"
      ]
    },
    {
      "cell_type": "code",
      "metadata": {
        "id": "Kyst4ntoJ1f2",
        "colab": {
          "base_uri": "https://localhost:8080/"
        },
        "outputId": "7e06c56c-4d64-476b-d2fe-30ad1be07466"
      },
      "source": [
        "ex = SLinkedList()\n",
        "ex.headval = Node(\"1\")\n",
        "e2 = Node(\"2\")\n",
        "e3 = Node(\"5\")\n",
        "e4 = Node(\"5\")\n",
        "\n",
        "ex.headval.next = e2\n",
        "e2.next = e3\n",
        "e3.next = e4\n",
        "ex.printList()"
      ],
      "execution_count": null,
      "outputs": [
        {
          "output_type": "stream",
          "text": [
            "1\n",
            "2\n",
            "5\n",
            "5\n"
          ],
          "name": "stdout"
        }
      ]
    },
    {
      "cell_type": "markdown",
      "metadata": {
        "id": "lEA2BZVadASy"
      },
      "source": [
        "### Question 2. Return Kth to last element in a linked list - Amit \n",
        "\n"
      ]
    },
    {
      "cell_type": "code",
      "metadata": {
        "id": "tdpFZ7dDdWFn",
        "colab": {
          "base_uri": "https://localhost:8080/",
          "height": 35
        },
        "outputId": "4f92b0c1-c692-4546-acd7-da83ae6db848"
      },
      "source": [
        "def returnK(list1, k):\n",
        "  ll_arr = []\n",
        "  curval = list1.headval\n",
        "  # Loop through the linked list\n",
        "  while curval != None:\n",
        "    ll_arr.append(curval.val)\n",
        "    curval = curval.next\n",
        "  return ll_arr[-k]\n",
        "\n",
        "returnK(ex, 1)\n",
        "# Time Complexity-> O(N) where N is the length of the Linked List\n",
        "# Standard approach -> Reverse linked list then iterate to kth term"
      ],
      "execution_count": null,
      "outputs": [
        {
          "output_type": "execute_result",
          "data": {
            "application/vnd.google.colaboratory.intrinsic+json": {
              "type": "string"
            },
            "text/plain": [
              "'5'"
            ]
          },
          "metadata": {
            "tags": []
          },
          "execution_count": 98
        }
      ]
    },
    {
      "cell_type": "markdown",
      "metadata": {
        "id": "9wUJCyhrPY7e"
      },
      "source": [
        "### Question 3. Delete Middle of Linked List"
      ]
    },
    {
      "cell_type": "code",
      "metadata": {
        "id": "IOgTEluHPiAi",
        "colab": {
          "base_uri": "https://localhost:8080/"
        },
        "outputId": "549ddd1f-01e2-4d1b-ecb7-8f83a05df548"
      },
      "source": [
        "class Node:\n",
        "\n",
        "    def __init__(self):\n",
        "\n",
        "        self.data = 0\n",
        "        self.next = None\n",
        "\n",
        "# Count of nodes\n",
        "def countOfNodes(head):\n",
        "\n",
        "    count = 0\n",
        "\n",
        "    while (head != None):\n",
        "        head = head.next\n",
        "        count += 1\n",
        "\n",
        "    return count\n",
        "\n",
        "# Deletes middle node and returns\n",
        "# head of the modified list\n",
        "def deleteMid(head):\n",
        "\n",
        "    # Base cases\n",
        "    if (head == None):\n",
        "        return None\n",
        "    if (head.next == None):\n",
        "        del head\n",
        "        return None\n",
        "\n",
        "    copyHead = head\n",
        "\n",
        "    # Find the count of nodes\n",
        "    count = countOfNodes(head)\n",
        "\n",
        "    # Find the middle node\n",
        "    mid = count // 2\n",
        "\n",
        "    # Delete the middle node\n",
        "    while (mid > 1):\n",
        "        mid -= 1\n",
        "        head = head.next\n",
        "\n",
        "    # Delete the middle node\n",
        "    head.next = head.next.next\n",
        "\n",
        "    return copyHead\n",
        "\n",
        "# A utility function to print\n",
        "# a given linked list\n",
        "def printList(ptr):\n",
        "\n",
        "    while (ptr != None):\n",
        "        print(ptr.data, end = '->')\n",
        "        ptr = ptr.next\n",
        "\n",
        "    print('NULL')\n",
        "\n",
        "# Utility function to create a new node.\n",
        "def newNode(data):\n",
        "\n",
        "    temp = Node()\n",
        "    temp.data = data\n",
        "    temp.next = None\n",
        "    return temp\n",
        "\n",
        "# Driver Code\n",
        "if __name__=='__main__':\n",
        "\n",
        "    # Start with the empty list\n",
        "    head = newNode(1)\n",
        "    head.next = newNode(2)\n",
        "    head.next.next = newNode(3)\n",
        "    head.next.next.next = newNode(4)\n",
        "\n",
        "    print(\"Gven Linked List\")\n",
        "    printList(head)\n",
        "\n",
        "    head = deleteMid(head)\n",
        "\n",
        "    print(\"Linked List after deletion of middle\")\n",
        "    printList(head)"
      ],
      "execution_count": null,
      "outputs": [
        {
          "output_type": "stream",
          "text": [
            "Gven Linked List\n",
            "1->2->3->4->NULL\n",
            "Linked List after deletion of middle\n",
            "1->2->4->NULL\n"
          ],
          "name": "stdout"
        }
      ]
    },
    {
      "cell_type": "markdown",
      "metadata": {
        "id": "OPoY9udDPs_8"
      },
      "source": [
        "### Question 4. Partition a linked list around a given value"
      ]
    },
    {
      "cell_type": "code",
      "metadata": {
        "id": "f9CUuK2SP6-0"
      },
      "source": [
        "class Node:\n",
        "    def __init__(self, data):\n",
        "        self.data = data\n",
        "        self.next = None\n",
        "\n",
        "# A utility function to create a new node\n",
        "def newNode(data):\n",
        "    new_node = Node(data)\n",
        "    new_node.data = data\n",
        "    new_node.next = None\n",
        "    return new_node\n",
        "\n",
        "# Function to make a new list\n",
        "# (using the existing nodes)\n",
        "# and return head of new list.\n",
        "def partition(head, x):\n",
        "\n",
        "    # Let us initialize start and\n",
        "    # tail nodes of new list\n",
        "    tail = head\n",
        "\n",
        "    # Now iterate original list\n",
        "    # and connect nodes\n",
        "    curr = head\n",
        "    while (curr != None):\n",
        "        next = curr.next\n",
        "        if (curr.data < x):\n",
        "\n",
        "            # Insert node at head.\n",
        "            curr.next = head\n",
        "            head = curr\n",
        "\n",
        "        else:\n",
        "\n",
        "            # Append to the list of greater values\n",
        "            # Insert node at tail.\n",
        "            tail.next = curr\n",
        "            tail = curr\n",
        "\n",
        "        curr = next\n",
        "\n",
        "    tail.next = None\n",
        "\n",
        "    # The head has changed, so we need\n",
        "    # to return it to the user.\n",
        "    return head\n",
        "\n",
        "# Function to print linked list\n",
        "def printList(head):\n",
        "    temp = head\n",
        "    while (temp != None):\n",
        "        print(temp.data, end = \" \")\n",
        "        temp = temp.next\n",
        "\n",
        "# Driver Code\n",
        "if __name__=='__main__':\n",
        "\n",
        "    # Start with the empty list\n",
        "    head = newNode(3)\n",
        "    head.next = newNode(5)\n",
        "    head.next.next = newNode(8)\n",
        "    head.next.next.next = newNode(2)\n",
        "    head.next.next.next.next = newNode(10)\n",
        "    head.next.next.next.next.next = newNode(2)\n",
        "    head.next.next.next.next.next.next = newNode(1)\n",
        "\n",
        "    x = 5\n",
        "    head = partition(head, x)\n",
        "    printList(head)"
      ],
      "execution_count": null,
      "outputs": []
    },
    {
      "cell_type": "markdown",
      "metadata": {
        "id": "Q_MjxKGcIZRc"
      },
      "source": [
        "### Question 5. Sum Lists - Amit "
      ]
    },
    {
      "cell_type": "code",
      "metadata": {
        "colab": {
          "base_uri": "https://localhost:8080/"
        },
        "id": "hvQ-63vgIWwB",
        "outputId": "51fcabc9-cf17-41e4-fe19-196f54d3b3fc"
      },
      "source": [
        "def sumList(list1, list2):\n",
        "  totalList = SLinkedList()\n",
        "  carry = 0 \n",
        "  \n",
        "  val = int(list1.headval.val) + int(list2.headval.val)\n",
        "  if val >9:\n",
        "    val = val%10\n",
        "    carry = 1\n",
        "  \n",
        "  totalHead = Node(val)\n",
        "  next1 = list1.headval.next\n",
        "  next2 = list2.headval.next\n",
        "  node = totalHead\n",
        "  totalList.headval = totalHead\n",
        "  \n",
        "  while next1 and next2 != None: \n",
        "    if next1 == None: \n",
        "      next1.val = 0 \n",
        "    else if next2 == None: \n",
        "      next2.val = 0\n",
        "    totalNextVal = int(next1.val) + int(next2.val)\n",
        "    if carry == 1: \n",
        "      totalNextVal += 1\n",
        "  \n",
        "    if totalNextVal >9: \n",
        "       totalNextVal = totalNextVal%10\n",
        "       carry = 1\n",
        "    else:\n",
        "       carry = 0 \n",
        "\n",
        "    newNode = Node(totalNextVal)\n",
        "    node.next = newNode\n",
        "    node = newNode\n",
        "    next1 = next1.next\n",
        "    next2 = next2.next  \n",
        "  \n",
        "  if carry == 1: \n",
        "    newNode = Node(1)\n",
        "    node.next = newNode\n",
        "\n",
        "  return totalList\n",
        "  \n",
        "\n",
        "total = sumList(ex, ex)\n",
        "total.printList()\n",
        "\n",
        "#Might also be easier to convert Linked List to a list. Reverse, add and then convert back to a linkedlist\n",
        "#Time Complexity -> O(N) where N is the length of the longest linked list"
      ],
      "execution_count": null,
      "outputs": [
        {
          "output_type": "stream",
          "text": [
            "2\n",
            "4\n",
            "0\n",
            "1\n",
            "1\n"
          ],
          "name": "stdout"
        }
      ]
    },
    {
      "cell_type": "markdown",
      "metadata": {
        "id": "a8ZlXGuYUw6J"
      },
      "source": [
        "### Question 6. "
      ]
    },
    {
      "cell_type": "code",
      "metadata": {
        "id": "WLtaXaLtUzcM"
      },
      "source": [
        ""
      ],
      "execution_count": null,
      "outputs": []
    },
    {
      "cell_type": "markdown",
      "metadata": {
        "id": "lgeEUzniUyW1"
      },
      "source": [
        "### Question 7. Intersection - Discussion"
      ]
    },
    {
      "cell_type": "code",
      "metadata": {
        "id": "iWGGttdbU4DC"
      },
      "source": [
        ""
      ],
      "execution_count": null,
      "outputs": []
    },
    {
      "cell_type": "markdown",
      "metadata": {
        "id": "ug97Fy3TU4nW"
      },
      "source": [
        "### Question 8. Loop Detection - Discussion"
      ]
    },
    {
      "cell_type": "code",
      "metadata": {
        "id": "tqFYu-gbU8lZ"
      },
      "source": [
        ""
      ],
      "execution_count": null,
      "outputs": []
    },
    {
      "cell_type": "markdown",
      "metadata": {
        "id": "fsELXQfA2y6s"
      },
      "source": [
        "# Chapter 3 Stacks and Queues"
      ]
    },
    {
      "cell_type": "markdown",
      "metadata": {
        "id": "LKzL_Cf425dr"
      },
      "source": [
        "### Stack and Queue Classes"
      ]
    },
    {
      "cell_type": "code",
      "metadata": {
        "id": "kSwyIsZq23WR"
      },
      "source": [
        "class Stack:\n",
        "    def __init__(self):\n",
        "        self.stack = []\n",
        "    \n",
        "    def push(self,data):\n",
        "        self.stack.append(data)\n",
        "    \n",
        "    def peek(self):\n",
        "        return self.stack[-1]\n",
        "        \n",
        "    def pop(self):\n",
        "\t    if len(self.stack) == 0:\n",
        "\t        return \"Stack is empty\"\n",
        "\t    else:\n",
        "\t        self.stack.remove(self.stack[-1])\n",
        "\n",
        "    def isEmpty(self):\n",
        "\t    if len(self.stack) == 0:\n",
        "\t        return True\n",
        "\t    else: \n",
        "\t        return False"
      ],
      "execution_count": null,
      "outputs": []
    },
    {
      "cell_type": "code",
      "metadata": {
        "id": "Dajy_Bkn2_98"
      },
      "source": [
        "class Queue:\n",
        "    def __init__(self):\n",
        "        self.queue = []\n",
        "    \n",
        "    def add(self,data):\n",
        "        self.queue.append(data)\n",
        "    \n",
        "    def remove(self):\n",
        "        self.queue.remove(self.queue[0])\n",
        "    \n",
        "    def peek(self):\n",
        "        return self.queue[0]\n",
        "    \n",
        "    def isEmpty(self):\n",
        "        if len(self.queue) == 0:\n",
        "            return True\n",
        "        else:\n",
        "            return False"
      ],
      "execution_count": null,
      "outputs": []
    },
    {
      "cell_type": "markdown",
      "metadata": {
        "id": "lbNxN4WiQCU7"
      },
      "source": [
        "### Question 2. Push, Pop, Min"
      ]
    },
    {
      "cell_type": "code",
      "metadata": {
        "id": "ZPY8WNMSQNrw",
        "colab": {
          "base_uri": "https://localhost:8080/"
        },
        "outputId": "a789cacf-9793-4e6f-d4a9-12f5c448ea45"
      },
      "source": [
        "from collections import deque\n",
        "\n",
        "class MinStack:\n",
        "    def __init__(self):\n",
        "\n",
        "        # main stack to store elements\n",
        "        self.s = deque()\n",
        "\n",
        "        # variable to store the minimum element\n",
        "        self.min = None\n",
        "\n",
        "    # Inserts a given element on top of the stack\n",
        "    def push(self, x):\n",
        "\n",
        "        if not self.s:\n",
        "            self.s.append(x)\n",
        "            self.min = x\n",
        "\n",
        "        elif x > self.min:\n",
        "            self.s.append(x)\n",
        "\n",
        "        else:\n",
        "            self.s.append(2*x - self.min)\n",
        "            self.min = x\n",
        "\n",
        "    # Removes the top element from the stack and returns it\n",
        "    def pop(self):\n",
        "\n",
        "        if not self.s:\n",
        "            self.print(\"Stack underflow!!\")\n",
        "\n",
        "        top = self.s[-1]\n",
        "        if top < self.min:\n",
        "            self.min = 2*self.min - top\n",
        "        self.s.pop()\n",
        "\n",
        "    # Returns the minimum element from the stack in constant time\n",
        "    def minimum(self):\n",
        "\n",
        "        return self.min\n",
        "\n",
        "\n",
        "if __name__ == '__main__':\n",
        "\n",
        "    s = MinStack()\n",
        "\n",
        "    s.push(6)\n",
        "    print(s.minimum())\n",
        "\n",
        "    s.push(7)\n",
        "    print(s.minimum())\n",
        "\n",
        "    s.push(5)\n",
        "    print(s.minimum())\n",
        "\n",
        "    s.push(3)\n",
        "    print(s.minimum())\n",
        "\n",
        "    s.pop()\n",
        "    print(s.minimum())\n",
        "\n",
        "    s.pop()\n",
        "    print(s.minimum())"
      ],
      "execution_count": null,
      "outputs": [
        {
          "output_type": "stream",
          "text": [
            "6\n",
            "6\n",
            "5\n",
            "3\n",
            "5\n",
            "6\n"
          ],
          "name": "stdout"
        }
      ]
    },
    {
      "cell_type": "markdown",
      "metadata": {
        "id": "wETROZB1UppN"
      },
      "source": [
        "### Question 3. Stack of Plates - Amit "
      ]
    },
    {
      "cell_type": "code",
      "metadata": {
        "id": "IDisDMg_UtHz"
      },
      "source": [
        "class SetOfPancakes:\n",
        "  def __init__(self):\n",
        "    self.stack = []\n",
        "    self.pancakeStack = [self.stack]\n",
        "    self.capacity = 3\n",
        "  \n",
        "  def pushToCake(self):\n",
        "    self.pancakeStack.append(self.stack)\n",
        "\n",
        "  def push(self, data):\n",
        "    if len (self.stack) <3: \n",
        "      self.stack.append(data)\n",
        "    else: \n",
        "      self.stack = []\n",
        "      self.stack.append(data)\n",
        "      SetOfPancakes.pushToCake(self)\n",
        "  \n",
        "  def popFromCake(self):\n",
        "    if len(self.pancakeStack)==1:\n",
        "      self.pancakeStack.remove(self.pancakeStack[0])\n",
        "    elif len(self.pancakeStack)>0:\n",
        "      self.pancakeStack.remove(self.pancakeStack[-1])\n",
        "      self.stack = self.pancakeStack[-1]\n",
        "    else: \n",
        "      print(\"No more stax :( \")\n",
        "\n",
        "  def pop(self):\n",
        "    if len(self.stack)==1:\n",
        "      self.stack.remove(self.stack[-1])\n",
        "      SetOfPancakes.popFromCake(self)\n",
        "    elif len(self.stack) >0:\n",
        "      self.stack.remove(self.stack[-1])\n",
        "    else: \n",
        "      SetOfPancakes.popFromCake(self)\n",
        "      if len(self.stack)>0:\n",
        "        self.stack.remove(self.stack[-1])\n",
        "  \n",
        "  def printPancakes(self):\n",
        "    #print(self.stack)\n",
        "    for i in self.pancakeStack:\n",
        "      print(i)\n"
      ],
      "execution_count": null,
      "outputs": []
    },
    {
      "cell_type": "code",
      "metadata": {
        "colab": {
          "base_uri": "https://localhost:8080/"
        },
        "id": "N8Tyvpdhec5Y",
        "outputId": "4aadc962-0029-4864-b76d-05851d98fe44"
      },
      "source": [
        "pancake = SetOfPancakes()\n",
        "pancake.push(\"1\")\n",
        "pancake.printPancakes()\n",
        "pancake.push(\"2\")\n",
        "pancake.printPancakes()\n",
        "pancake.push(\"3\")\n",
        "pancake.printPancakes()\n",
        "pancake.push(\"4\")\n",
        "pancake.printPancakes()\n",
        "pancake.push(\"5\")\n",
        "pancake.printPancakes()\n",
        "pancake.push(\"6\")\n",
        "pancake.printPancakes()\n",
        "pancake.pop()\n",
        "pancake.printPancakes()\n",
        "pancake.pop()\n",
        "pancake.printPancakes()\n",
        "pancake.pop()\n",
        "pancake.printPancakes()\n",
        "pancake.pop()\n",
        "pancake.printPancakes()"
      ],
      "execution_count": null,
      "outputs": [
        {
          "output_type": "stream",
          "text": [
            "['1']\n",
            "['1', '2']\n",
            "['1', '2', '3']\n",
            "['1', '2', '3']\n",
            "['4']\n",
            "['1', '2', '3']\n",
            "['4', '5']\n",
            "['1', '2', '3']\n",
            "['4', '5', '6']\n",
            "['1', '2', '3']\n",
            "['4', '5']\n",
            "['1', '2', '3']\n",
            "['4']\n",
            "['1', '2', '3']\n",
            "['1', '2']\n"
          ],
          "name": "stdout"
        }
      ]
    },
    {
      "cell_type": "markdown",
      "metadata": {
        "id": "r2gyA6zCVnQM"
      },
      "source": [
        "### Question 4. Queue Via Stacks - Amit"
      ]
    },
    {
      "cell_type": "code",
      "metadata": {
        "id": "61Ay30hxVn10"
      },
      "source": [
        "class MyQueue:\n",
        "  def __init__(self):\n",
        "    self.push_stack = []\n",
        "    self.pop_stack = []\n",
        "  \n",
        "  def pushToPushStack(self):\n",
        "    for i in range(len(self.pop_stack)):\n",
        "      pop_val = self.pop_stack[-1]\n",
        "      self.push_stack.append(pop_val)\n",
        "      \n",
        "\n",
        "  def pushToPopStack(self, data):\n",
        "    if data != None:\n",
        "      self.pop_stack.append(data)\n",
        "\n",
        "  def popPushStack(self):\n",
        "    if len(self.push_stack) > 0: \n",
        "      pop_val = self.push_stack[-1]\n",
        "      self.push_stack.remove(self.push_stack[-1])\n",
        "      return pop_val\n",
        "    else: \n",
        "      print(\"No More Stax :'(\")\n",
        "      return None\n",
        "\n",
        "  def pop(self):\n",
        "    for i in range(len(self.push_stack)):\n",
        "      pop_val = MyQueue.popPushStack(self)\n",
        "      MyQueue.pushToPopStack(self, pop_val)\n",
        "    pop_val = self.pop_stack[-1]\n",
        "    self.pop_stack.remove(self.pop_stack[-1])\n",
        "    MyQueue.pushToPushStack(self)\n",
        "    return pop_val\n",
        "\n",
        "  def push(self, data):\n",
        "    self.push_stack.append(data)\n",
        "  \n",
        "  def printQueue(self):\n",
        "    print(self.push_stack)\n",
        "    "
      ],
      "execution_count": null,
      "outputs": []
    },
    {
      "cell_type": "code",
      "metadata": {
        "colab": {
          "base_uri": "https://localhost:8080/"
        },
        "id": "8_nw6RWzNQhH",
        "outputId": "193e9636-a407-4bed-ea6f-eb96f460ec7b"
      },
      "source": [
        "q = MyQueue()\n",
        "q.push(1)\n",
        "q.pop()\n"
      ],
      "execution_count": null,
      "outputs": [
        {
          "output_type": "execute_result",
          "data": {
            "text/plain": [
              "1"
            ]
          },
          "metadata": {
            "tags": []
          },
          "execution_count": 29
        }
      ]
    },
    {
      "cell_type": "markdown",
      "metadata": {
        "id": "_Hbjys6CVoM4"
      },
      "source": [
        "### Question 5. Sort Stack - Amit"
      ]
    },
    {
      "cell_type": "code",
      "metadata": {
        "id": "w9ZZrnfVVpvw"
      },
      "source": [
        "# Using the Stack Class that was declared earlier\n",
        "# Time Complexity O(N^2)\n",
        "def reload(stack, temp):\n",
        "\n",
        "  while len(temp.stack) >0:\n",
        "    stack.push(temp.peek())\n",
        "    temp.pop()\n",
        "\n",
        "\n",
        "def sortStack(stack_obj):\n",
        "  stack = stack_obj.stack\n",
        "  temp_stack_obj = Stack()\n",
        "  sorted_stack_obj = Stack()\n",
        "  temp_stack = temp_stack_obj.stack\n",
        "  sorted_stack= sorted_stack_obj.stack\n",
        "  loop = len(stack)\n",
        "\n",
        "  while len(sorted_stack) != loop:\n",
        "      min_val = min(stack)\n",
        "      if stack_obj.peek() == min_val:\n",
        "        sorted_stack_obj.push(stack_obj.peek())\n",
        "        stack_obj.pop()\n",
        "        reload(stack_obj, temp_stack_obj)\n",
        "      else:\n",
        "        temp_stack_obj.push(stack_obj.peek())\n",
        "        stack_obj.pop()\n",
        "\n",
        "  stack_obj.stack = sorted_stack"
      ],
      "execution_count": null,
      "outputs": []
    },
    {
      "cell_type": "code",
      "metadata": {
        "colab": {
          "base_uri": "https://localhost:8080/"
        },
        "id": "GoB582ZTUPtg",
        "outputId": "201f2dd2-b9a8-47c7-8f86-03d71464060c"
      },
      "source": [
        "stackeroni = Stack()\n",
        "stackeroni.push(9)\n",
        "stackeroni.push(8)\n",
        "stackeroni.push(10)\n",
        "stackeroni.push(2)\n",
        "stackeroni.push(3)\n",
        "sortStack(stackeroni)\n",
        "print(stackeroni.stack)"
      ],
      "execution_count": null,
      "outputs": [
        {
          "output_type": "stream",
          "text": [
            "[2, 3, 8, 9, 10]\n"
          ],
          "name": "stdout"
        }
      ]
    },
    {
      "cell_type": "markdown",
      "metadata": {
        "id": "Mm4BgZeLVqKb"
      },
      "source": [
        "### Question 6. Animal Shelter - Discussion"
      ]
    },
    {
      "cell_type": "code",
      "metadata": {
        "id": "vzESVCG1V0uc"
      },
      "source": [
        ""
      ],
      "execution_count": null,
      "outputs": []
    },
    {
      "cell_type": "markdown",
      "metadata": {
        "id": "3X1ED7oze_Dk"
      },
      "source": [
        "# Chapter 4 Trees and Graphs"
      ]
    },
    {
      "cell_type": "markdown",
      "metadata": {
        "id": "Xlu7fHyPUBbs"
      },
      "source": [
        "### Node Class\n"
      ]
    },
    {
      "cell_type": "code",
      "metadata": {
        "id": "HmCFUF9eT_mG"
      },
      "source": [
        "class node:\n",
        "    def __init__(self,d):\n",
        "        self.data = d\n",
        "        self.left = None\n",
        "        self.right = None\n",
        "    \n",
        "    def insert(self, data):\n",
        "        if self.data:\n",
        "            if data < self.data:\n",
        "                if self.left is None:\n",
        "                    self.left = node(data)\n",
        "                else:\n",
        "                    self.left.insert(data)\n",
        "            elif data > self.data:\n",
        "                if self.right is None:\n",
        "                    self.right = node(data)\n",
        "                else:\n",
        "                    self.right.insert(data)\n",
        "        else:\n",
        "            self.data = data\n",
        "\n",
        "    def PrintTree(self):\n",
        "        if self.left:\n",
        "            self.left.PrintTree()\n",
        "        print( self.data),\n",
        "        if self.right:\n",
        "            self.right.PrintTree()\n",
        "class LLNode: \n",
        "  \n"
      ],
      "execution_count": null,
      "outputs": []
    },
    {
      "cell_type": "markdown",
      "metadata": {
        "id": "GgMJcgRUAg1H"
      },
      "source": [
        "#### Example of how to start a Tree"
      ]
    },
    {
      "cell_type": "code",
      "metadata": {
        "colab": {
          "base_uri": "https://localhost:8080/"
        },
        "id": "CKAJtADzAqYB",
        "outputId": "a8649528-d841-4cc3-9777-ae5137a48eb0"
      },
      "source": [
        "root = node(10)\n",
        "root.insert(9)\n",
        "root.insert(90)\n",
        "root.insert(8)\n",
        "root.insert(12)\n",
        "root.insert(4)\n",
        "\n",
        "root.PrintTree()"
      ],
      "execution_count": null,
      "outputs": [
        {
          "output_type": "stream",
          "text": [
            "4\n",
            "8\n",
            "9\n",
            "10\n",
            "12\n",
            "90\n"
          ],
          "name": "stdout"
        }
      ]
    },
    {
      "cell_type": "markdown",
      "metadata": {
        "id": "mNyxexFtiIxf"
      },
      "source": [
        "### Question 1. Route Between Nodes"
      ]
    },
    {
      "cell_type": "code",
      "metadata": {
        "id": "6MhPbhW9fFfS"
      },
      "source": [
        "from collections import defaultdict\n",
        "\n",
        "class Graph:\n",
        "\n",
        "    def __init__(self,vertices):\n",
        "        self.V = vertices\n",
        "        self.graph = defaultdict(list)\n",
        "\n",
        "    def addEdge(self,u,v):\n",
        "        self.graph[u].append(v)\n",
        "\n",
        "    def isReachable(self,s,d):\n",
        "        visited = [False]*(self.V)\n",
        "\n",
        "        queue=[]\n",
        "\n",
        "        queue.append(s)\n",
        "        visited[s]=True\n",
        "\n",
        "        while queue:\n",
        "            n= queue.pop(0)\n",
        "            if n==d:\n",
        "                return True\n",
        "\n",
        "            for i in self.graph[n]:\n",
        "                if visited[i] == False:\n",
        "                    queue.append(i)\n",
        "                    visited[i] = True\n",
        "\n",
        "        return False\n",
        "\n",
        "g = Graph(4)\n",
        "g.addEdge(0, 1)\n",
        "g.addEdge(0, 2)\n",
        "g.addEdge(1, 2)\n",
        "g.addEdge(2, 0)\n",
        "g.addEdge(2, 3)\n",
        "g.addEdge(3, 3)\n",
        "\n",
        "u =1; v = 3\n",
        "\n",
        "if g.isReachable(u, v):\n",
        "    print(\"There is a path from %d to %d\" % (u,v))\n",
        "else :\n",
        "    print(\"There is no path from %d to %d\" % (u,v))\n",
        "\n",
        "u = 3; v = 1\n",
        "if g.isReachable(u, v) :\n",
        "    print(\"There is a path from %d to %d\" % (u,v))\n",
        "else :\n",
        "    print(\"There is no path from %d to %d\" % (u,v))"
      ],
      "execution_count": null,
      "outputs": []
    },
    {
      "cell_type": "markdown",
      "metadata": {
        "id": "quDN_bzRiL87"
      },
      "source": [
        "### Question 2. Minimal Tree"
      ]
    },
    {
      "cell_type": "code",
      "metadata": {
        "id": "ZCvHNZTPiMaS"
      },
      "source": [
        "def minHeightTree(sorted_array):\n",
        "    \n",
        "    if not sorted_array:\n",
        "        return None\n",
        "    \n",
        "    length = len(sorted_array)\n",
        "    \n",
        "    mid = len/2\n",
        "\n",
        "    root = node(sorted_array[mid])\n",
        "    \n",
        "    root.left = minHeightTree(sorted_array(:mid))\n",
        "    root.right = minHeightTree(sorted_array(mid+1:))\n",
        "    return root"
      ],
      "execution_count": null,
      "outputs": []
    },
    {
      "cell_type": "markdown",
      "metadata": {
        "id": "6wDHzzpliMt5"
      },
      "source": [
        "### Question 3. List of Depths - Amit"
      ]
    },
    {
      "cell_type": "code",
      "metadata": {
        "id": "_23H9dTKiTCO",
        "colab": {
          "base_uri": "https://localhost:8080/"
        },
        "outputId": "d7e56ead-58bc-429a-d4de-2b82e1bd1671"
      },
      "source": [
        "#def dicToLinkedList(dic):\n",
        "    \n",
        "\n",
        "def traverse(tree, depth, depth_dic):\n",
        "    if tree:\n",
        "      depth += 1\n",
        "      if depth not in depth_dic:\n",
        "          depth_dic[depth] = [tree.data]      \n",
        "      else:\n",
        "          depth_dic[depth].append(tree.data)\n",
        "\n",
        "      traverse(tree.left, depth, depth_dic)\n",
        "      traverse(tree.right, depth, depth_dic)\n",
        "\n",
        "      return depth_dic\n",
        "    \n",
        "\n",
        "def listOfDepths(tree):\n",
        "    #Decide which traversal method to use\n",
        "        #--> Post Order because left -> right -> root gives us the information at the current depth\n",
        "    depths = traverse(tree, 0, {})       \n",
        "    #dictToLinkedList(depths)\n",
        "    return depths\n",
        "\n",
        "\n",
        "listOfDepths(root)\n"
      ],
      "execution_count": null,
      "outputs": [
        {
          "output_type": "execute_result",
          "data": {
            "text/plain": [
              "{1: [10], 2: [9, 90], 3: [8, 12], 4: [4]}"
            ]
          },
          "metadata": {
            "tags": []
          },
          "execution_count": 51
        }
      ]
    },
    {
      "cell_type": "markdown",
      "metadata": {
        "id": "03GgRLMsiT6r"
      },
      "source": [
        "### Question 4. Check Balanced"
      ]
    },
    {
      "cell_type": "code",
      "metadata": {
        "id": "dIdZ819iiVYJ"
      },
      "source": [
        "class Node:\n",
        "    def __init__(self,data):\n",
        "        self.data = data\n",
        "        self.left = None\n",
        "        self.right = None\n",
        "\n",
        "def height(root):\n",
        "    if root is None:\n",
        "        return 0\n",
        "    return max(height(root.left), height(root.right)) + 1\n",
        "\n",
        "def isBalanced(root):\n",
        "    if root is None:\n",
        "        return True\n",
        "\n",
        "    left_height = height(root.left)\n",
        "    right_height = height(root.right)\n",
        "\n",
        "    if (abs(left_height - right_height) <= 1) and isBalanced(root.left) is True and isBalanced(root.right) is True:\n",
        "        return True\n",
        "\n",
        "    return False\n",
        "\n",
        "root = Node(1)\n",
        "root.left = Node(2)\n",
        "root.right = Node(3)\n",
        "root.left.left = Node(4)\n",
        "root.left.right = Node(5)\n",
        "root.left.left.left = Node(8)\n",
        "if isBalanced(root):\n",
        "    print(\"Tree is balanced\")\n",
        "else:\n",
        "    print(\"Tree is not balanced\")"
      ],
      "execution_count": null,
      "outputs": []
    },
    {
      "cell_type": "markdown",
      "metadata": {
        "id": "klA7UsUOiWDO"
      },
      "source": [
        "### Question 5. "
      ]
    },
    {
      "cell_type": "code",
      "metadata": {
        "id": "66Ut8fB1iWce"
      },
      "source": [
        "inOrderTraversal(root,arr):\n",
        "  if root is None:\n",
        "    return\n",
        "  inOrderTraversal(root.left, arr)\n",
        "  arr.append(root)\n",
        "  inOrderTraversal(root.right, arr)\n",
        "\n",
        "#Traversals will give us a list in order. If this was ever broken, then we would know it is not a binary search tree.\n",
        "isBinarySearchTree(root):\n",
        "  arr = []\n",
        "  inOrderTraversal(root,arr)\n",
        "\n",
        "  for x in range(1,len(arr))\n",
        "    if arr[x] < arr[x-1]:\n",
        "      return false\n",
        "  return true\n",
        "\n"
      ],
      "execution_count": null,
      "outputs": []
    },
    {
      "cell_type": "markdown",
      "metadata": {
        "id": "BJwfzP-kiZnf"
      },
      "source": [
        "### Question 6. Successor - Amit"
      ]
    },
    {
      "cell_type": "code",
      "metadata": {
        "id": "HZGfP2rQiaVx"
      },
      "source": [
        "# Not really sure what this question is asking"
      ],
      "execution_count": null,
      "outputs": []
    },
    {
      "cell_type": "markdown",
      "metadata": {
        "id": "kgKF6B8CigUC"
      },
      "source": [
        "### Question 7. Build Order"
      ]
    },
    {
      "cell_type": "code",
      "metadata": {
        "id": "FDw9bt-6igoH"
      },
      "source": [
        ""
      ],
      "execution_count": null,
      "outputs": []
    },
    {
      "cell_type": "markdown",
      "metadata": {
        "id": "kD2l4BKDilI9"
      },
      "source": [
        "### Question 8. "
      ]
    },
    {
      "cell_type": "code",
      "metadata": {
        "id": "9CV_ecV_ilge"
      },
      "source": [
        "#Methodology behind this is that we need to see if the both are on the same side.\n",
        "#If p and q are not on the same side, then the first common ancestor is the node we are at\n",
        "#So all we need to do is check left\n",
        "\n",
        "def covers(root,p):\n",
        "  if root == nul:\n",
        "    return false\n",
        "  if root == p:\n",
        "    return true\n",
        "  return covers(root.left,p) or covers(root.right,p)\n",
        "\n",
        "def common_ancestor(root,p,q):\n",
        "  if(root == None or root == p or root == q):\n",
        "    return root\n",
        "  \n",
        "  bool pisLeft = covers(root.left,p)\n",
        "  bool qisLeft = covers(root.left,q)\n",
        "  if(pisLeft != qisLeft):\n",
        "    return root\n",
        "  if pisLeft:\n",
        "    child = root.left\n",
        "  else:\n",
        "    child = root.right\n",
        "  return common_ancestor(child,p,q)\n",
        "\n",
        "\n",
        "  "
      ],
      "execution_count": null,
      "outputs": []
    },
    {
      "cell_type": "markdown",
      "metadata": {
        "id": "xemYzak1ipLB"
      },
      "source": [
        "### Question 9. BST Sequences - Amit"
      ]
    },
    {
      "cell_type": "code",
      "metadata": {
        "id": "ds0VTEgyipdm"
      },
      "source": [
        "def seqs(bst):\n",
        "    root = bst.data\n",
        "    array = [root]\n",
        "\n",
        "    traverse(bst)\n",
        "    \n",
        "\n",
        "y = root\n",
        "seqs(y)"
      ],
      "execution_count": null,
      "outputs": []
    },
    {
      "cell_type": "markdown",
      "metadata": {
        "id": "wBWuhyPxFl8c"
      },
      "source": [
        "### Question 10. Check Subtree - Discussion"
      ]
    },
    {
      "cell_type": "code",
      "metadata": {
        "id": "IreSqwDAFm5n"
      },
      "source": [
        "def searchT1forRoot(t1, t2list)\n",
        "  t2_root = t2list[0]\n",
        "  root = None\n",
        "  #checkRootReturnNode\n",
        "  if root != None: \n",
        "    #preordetraverse(root)\n",
        "    #checklistont2list\n",
        "    return check_bool\n",
        "  else: \n",
        "    return False\n",
        "\n",
        "def t2ToList(t2):\n",
        "  preOrderTraversal()\n",
        "  return []\n",
        "\n",
        "def check(t1, t2):\n",
        "  t2list = t2ToList(t2)\n",
        "  return searchT1forRoot(t1, t2list)\n",
        "\n",
        "\n"
      ],
      "execution_count": null,
      "outputs": []
    },
    {
      "cell_type": "markdown",
      "metadata": {
        "id": "2o44qLYjFnak"
      },
      "source": [
        "### Question 11. Random Node. - Discussion\n",
        "\n"
      ]
    },
    {
      "cell_type": "code",
      "metadata": {
        "id": "l0DFLnSvFntE"
      },
      "source": [
        "def randomNode():\n",
        "  randList = preordertraverse()\n",
        "  length = len(randList)\n",
        "  random(0, length -1)\n",
        "  "
      ],
      "execution_count": null,
      "outputs": []
    },
    {
      "cell_type": "markdown",
      "metadata": {
        "id": "TqCjiEe3FoIC"
      },
      "source": [
        ""
      ]
    },
    {
      "cell_type": "code",
      "metadata": {
        "id": "tjTv_ma_FoXV"
      },
      "source": [
        ""
      ],
      "execution_count": null,
      "outputs": []
    },
    {
      "cell_type": "markdown",
      "metadata": {
        "id": "rAhewrHrFpMH"
      },
      "source": [
        "# Chapter 5 Bit Manipulation"
      ]
    },
    {
      "cell_type": "code",
      "metadata": {
        "id": "f1VxVIOyFrYu"
      },
      "source": [
        ""
      ],
      "execution_count": null,
      "outputs": []
    },
    {
      "cell_type": "markdown",
      "metadata": {
        "id": "6DzKPBE3FtDQ"
      },
      "source": [
        "### Question 4. Next Contestant- Karto "
      ]
    },
    {
      "cell_type": "code",
      "metadata": {
        "id": "koQ5P-WGFsz2",
        "colab": {
          "base_uri": "https://localhost:8080/"
        },
        "outputId": "c57ec66f-dcbe-4fad-cef6-7003135d9244"
      },
      "source": [
        "def countOnes(bin1):\n",
        "    count = 0\n",
        "    for i in bin1: \n",
        "      if i == '1':\n",
        "        count += 1\n",
        "      \n",
        "    return count\n",
        "\n",
        "# Rule for max flip the right most 01 combo\n",
        "# Rule for min, flip the left most 10 combo\n",
        "\n",
        "def nextNumber(int1):\n",
        "    max_no = 0\n",
        "    min_no = 0\n",
        "    check_int = int1\n",
        "\n",
        "\n",
        "\n",
        "    while not max_no:\n",
        "      bin1 = bin(int1)[2:]\n",
        "      ones = bin1.count('1')\n",
        "\n",
        "      check_int = check_int+1\n",
        "      check_bin = bin(check_int)[2:]\n",
        "      check_ones = check_bin.count('1')\n",
        "      print(check_ones)\n",
        "      if ones == check_ones: \n",
        "        max_no = check_int  \n",
        "    \n",
        "    check_int = int1\n",
        "    if len(bin1) == bin1.count('1'):\n",
        "        min_no = int1\n",
        "        \n",
        "    while not min_no:\n",
        "      bin1 = bin(int1)[2:]\n",
        "      ones = bin1.count('1')\n",
        "\n",
        "      check_int = check_int-1\n",
        "      check_bin = bin(check_int)[2:]\n",
        "      check_ones = check_bin.count('1')\n",
        "\n",
        "      if ones == check_ones: \n",
        "        min_no = check_int  \n",
        "\n",
        "    return (max_no, min_no)\n",
        "\n",
        "'''\n",
        "    bin1 = bin(int1)[2:]\n",
        "    len1 = len(bin1)\n",
        "    max = 0\n",
        "    min = 0\n",
        "\n",
        "    if '0' not in bin1:\n",
        "      max = int1*2\n",
        "      min = int1\n",
        "      return max, min\n",
        "    elif '1' not in bin1: \n",
        "      return max, min\n",
        "    else: \n",
        "      numberOfOnes = countOnes(bin1)\n",
        "    \n",
        "    if bin1[len(bin1)-1] == '1':\n",
        "        max = int((bin(int1)+bin(1)), 2)\n",
        "'''\n",
        "\n",
        "\n",
        "nextNumber(7)"
      ],
      "execution_count": null,
      "outputs": [
        {
          "output_type": "stream",
          "text": [
            "1\n",
            "2\n",
            "2\n",
            "3\n"
          ],
          "name": "stdout"
        },
        {
          "output_type": "execute_result",
          "data": {
            "text/plain": [
              "(11, 7)"
            ]
          },
          "metadata": {
            "tags": []
          },
          "execution_count": 29
        }
      ]
    },
    {
      "cell_type": "markdown",
      "metadata": {
        "id": "vjuHCRImFyrX"
      },
      "source": [
        "### Question 6. Binary Flip - Amit"
      ]
    },
    {
      "cell_type": "code",
      "metadata": {
        "id": "Z0CJjhByF9lX",
        "colab": {
          "base_uri": "https://localhost:8080/"
        },
        "outputId": "97b0a771-71ae-4167-bebf-7dab90e52b55"
      },
      "source": [
        "def binaryFlip(int1, int2):\n",
        "\n",
        "    bin1 = bin(int1)[2:]\n",
        "    bin2 = bin(int2)[2:]\n",
        "    \n",
        "    len1 = len(bin1)\n",
        "    len2 = len(bin2)\n",
        "    \n",
        "    if len1 > len2: \n",
        "        no_zeros = len1 - len2\n",
        "        bin2 = '0'*no_zeros + bin2\n",
        "    elif len2> len1: \n",
        "        no_zeros = len2 - len1\n",
        "        bin1 = '0'*no_zeros + bin1\n",
        "    \n",
        "    count = 0\n",
        "\n",
        "    for i in range(len(bin1)): \n",
        "        if bin1[i] != bin2[i]:\n",
        "          count +=1\n",
        "    return count\n",
        "\n",
        "\n",
        "binaryFlip(2, 69)"
      ],
      "execution_count": null,
      "outputs": [
        {
          "output_type": "execute_result",
          "data": {
            "text/plain": [
              "4"
            ]
          },
          "metadata": {
            "tags": []
          },
          "execution_count": 11
        }
      ]
    },
    {
      "cell_type": "code",
      "metadata": {
        "id": "myhGW-icq9OL"
      },
      "source": [
        "from collections import deque"
      ],
      "execution_count": null,
      "outputs": []
    },
    {
      "cell_type": "code",
      "metadata": {
        "colab": {
          "base_uri": "https://localhost:8080/"
        },
        "id": "IizGTwp7Aq26",
        "outputId": "4303e117-a39e-4e3d-cc04-d5da2b3b8ac6"
      },
      "source": [
        "q = deque()\n",
        "\n",
        "q.append(1)\n",
        "q.appendleft(2)\n",
        "print(q)\n",
        "q[0]"
      ],
      "execution_count": null,
      "outputs": [
        {
          "output_type": "stream",
          "text": [
            "deque([2, 1])\n"
          ],
          "name": "stdout"
        },
        {
          "output_type": "execute_result",
          "data": {
            "text/plain": [
              "2"
            ]
          },
          "metadata": {
            "tags": []
          },
          "execution_count": 16
        }
      ]
    },
    {
      "cell_type": "code",
      "metadata": {
        "colab": {
          "base_uri": "https://localhost:8080/"
        },
        "id": "t60Hktl3A39C",
        "outputId": "4196578d-8377-4db9-f1a6-1ac8db4b30fc"
      },
      "source": [
        "d = [1]\n",
        "d.append(2)\n",
        "d.pop()"
      ],
      "execution_count": null,
      "outputs": [
        {
          "output_type": "execute_result",
          "data": {
            "text/plain": [
              "2"
            ]
          },
          "metadata": {
            "tags": []
          },
          "execution_count": 17
        }
      ]
    },
    {
      "cell_type": "code",
      "metadata": {
        "colab": {
          "base_uri": "https://localhost:8080/",
          "height": 180
        },
        "id": "CGpCmQWcA9gJ",
        "outputId": "e0920d49-178f-4a19-e0ad-acdc95679b03"
      },
      "source": [
        "dic = {}\n",
        "print(dic[1])"
      ],
      "execution_count": null,
      "outputs": [
        {
          "output_type": "error",
          "ename": "KeyError",
          "evalue": "ignored",
          "traceback": [
            "\u001b[0;31m---------------------------------------------------------------------------\u001b[0m",
            "\u001b[0;31mKeyError\u001b[0m                                  Traceback (most recent call last)",
            "\u001b[0;32m<ipython-input-19-3ccdd178afb4>\u001b[0m in \u001b[0;36m<module>\u001b[0;34m()\u001b[0m\n\u001b[1;32m      1\u001b[0m \u001b[0mdic\u001b[0m \u001b[0;34m=\u001b[0m \u001b[0;34m{\u001b[0m\u001b[0;34m}\u001b[0m\u001b[0;34m\u001b[0m\u001b[0;34m\u001b[0m\u001b[0m\n\u001b[0;32m----> 2\u001b[0;31m \u001b[0mprint\u001b[0m\u001b[0;34m(\u001b[0m\u001b[0mdic\u001b[0m\u001b[0;34m[\u001b[0m\u001b[0;36m1\u001b[0m\u001b[0;34m]\u001b[0m\u001b[0;34m)\u001b[0m\u001b[0;34m\u001b[0m\u001b[0;34m\u001b[0m\u001b[0m\n\u001b[0m",
            "\u001b[0;31mKeyError\u001b[0m: 1"
          ]
        }
      ]
    },
    {
      "cell_type": "code",
      "metadata": {
        "id": "ybhYd6wCNIqF"
      },
      "source": [
        ""
      ],
      "execution_count": null,
      "outputs": []
    },
    {
      "cell_type": "markdown",
      "metadata": {
        "id": "ouZQdtuWbrGe"
      },
      "source": [
        "### Grokking Depth First Search Challenge Problem 1 - Amit"
      ]
    },
    {
      "cell_type": "code",
      "metadata": {
        "colab": {
          "base_uri": "https://localhost:8080/"
        },
        "id": "Sa7DA7Bibvah",
        "outputId": "adf358a6-c08a-4bbb-8c38-f4c4e8994105"
      },
      "source": [
        "class TreeNode:\n",
        "  def __init__(self, val, left=None, right=None):\n",
        "    self.val = val\n",
        "    self.left = left\n",
        "    self.right = right\n",
        "\n",
        "\n",
        "class TreeDiameter:\n",
        "\n",
        "  def __init__(self):\n",
        "    self.treeDiameter = 0\n",
        "\n",
        "    \n",
        "  def computePaths(currNode, currPath, allPaths):\n",
        "    # Base Case\n",
        "    if currNode is None: \n",
        "      return \n",
        "    \n",
        "    # add Current Node to the Path\n",
        "\n",
        "    currPath.append(currNode.val)\n",
        "    \n",
        "    # Leaf Node Check\n",
        "    if currNode.left is None and currNode.right is None: \n",
        "       #print(list(currPath))\n",
        "       allPaths.append([list(currPath)])\n",
        "    else: \n",
        "      #left node\n",
        "      TreeDiameter.computePaths(currNode.left, currPath, allPaths)\n",
        "\n",
        "      #right node \n",
        "      TreeDiameter.computePaths(currNode.right, currPath, allPaths)\n",
        "\n",
        "    del currPath[-1]\n",
        "  \n",
        "  #def firstCommonAncestor(max1, max2):\n",
        "      \n",
        "  def find_diameter(self, root):\n",
        "    # TODO: Write your code here\n",
        "    allPaths = []\n",
        "    TreeDiameter.computePaths(root, [], allPaths)\n",
        "    print(allPaths)\n",
        "\n",
        "    #get lengths of all paths\n",
        "    lenarr = []\n",
        "    for i in allPaths: \n",
        "        lenarr.append(len(i[0]))\n",
        "    \n",
        "    #find max length in lenarr and pop it because we need to find the 2nd max\n",
        "    max1 = max(lenarr)\n",
        "    maxPath1 = allPaths.pop(lenarr.index(max1))[0]\n",
        "    print(lenarr)\n",
        "    lenarr.pop(lenarr.index(max1))\n",
        "    \n",
        "    max2 = max(lenarr)\n",
        "    maxPath2 = allPaths[lenarr.index(max2)][0]\n",
        "    \n",
        "    #gets the intersection of the maxpaths\n",
        "    commonAncestors = list(set(maxPath1) & set(maxPath2))\n",
        "    #gets most recent ancestor\n",
        "    firstCommonAncestor = commonAncestors[-1]\n",
        "    \n",
        "    # cuts off path until the most recent ancestor in the max paths \n",
        "    path1 = maxPath1[maxPath1.index(firstCommonAncestor):]\n",
        "    path2 = maxPath2[maxPath2.index(firstCommonAncestor):]\n",
        "    \n",
        "    # subtracted 1 because the root ancestor will be counted twice \n",
        "    diameter = len(path1)+len(path2) -1\n",
        "\n",
        "    \n",
        "    return diameter\n",
        "\n",
        "\n",
        "def main():\n",
        "  treeDiameter = TreeDiameter()\n",
        "  root = TreeNode(1)\n",
        "  root.left = TreeNode(2)\n",
        "  root.right = TreeNode(3)\n",
        "  root.left.left = TreeNode(4)\n",
        "  root.right.left = TreeNode(5)\n",
        "  root.right.right = TreeNode(6)\n",
        "  print(\"Tree Diameter: \" + str(treeDiameter.find_diameter(root)))\n",
        "  root.left.left = None\n",
        "  root.right.left.left = TreeNode(7)\n",
        "  root.right.left.right = TreeNode(8)\n",
        "  root.right.right.left = TreeNode(9)\n",
        "  root.right.left.right.left = TreeNode(10)\n",
        "  root.right.right.left.left = TreeNode(11)\n",
        "  print(\"Tree Diameter: \" + str(treeDiameter.find_diameter(root)))\n",
        "\n",
        "\n",
        "main()"
      ],
      "execution_count": null,
      "outputs": [
        {
          "output_type": "stream",
          "text": [
            "[[[1, 2, 4]], [[1, 3, 5]], [[1, 3, 6]]]\n",
            "[3, 3, 3]\n",
            "Tree Diameter: 5\n",
            "[[[1, 2]], [[1, 3, 5, 7]], [[1, 3, 5, 8, 10]], [[1, 3, 6, 9, 11]]]\n",
            "[2, 4, 5, 5]\n",
            "Tree Diameter: 7\n"
          ],
          "name": "stdout"
        }
      ]
    },
    {
      "cell_type": "markdown",
      "metadata": {
        "id": "nBltjD2-i332"
      },
      "source": [
        "### Grokking Depth First Search Challenge Problem 2 - Amit"
      ]
    },
    {
      "cell_type": "code",
      "metadata": {
        "colab": {
          "base_uri": "https://localhost:8080/",
          "height": 340
        },
        "id": "L3M14pcaeIJo",
        "outputId": "73975885-764a-440e-81ba-c3f96d468b85"
      },
      "source": [
        "import math\n",
        "\n",
        "\n",
        "class TreeNode:\n",
        "  def __init__(self, val, left=None, right=None):\n",
        "    self.val = val\n",
        "    self.left = left\n",
        "    self.right = right\n",
        "\n",
        "\n",
        "\n",
        "def find_maximum_path_sum(root):\n",
        "  # TODO: Write your code here\n",
        "\n",
        "  allPaths = getAllPaths()\n",
        "  return max(getSumForAllPathswithSameRootNode(allPaths))\n",
        "  \n",
        "\n",
        "\n",
        "def main():\n",
        "  root = TreeNode(1)\n",
        "  root.left = TreeNode(2)\n",
        "  root.right = TreeNode(3)\n",
        "\n",
        "  print(\"Maximum Path Sum: \" + str(find_maximum_path_sum(root)))\n",
        "  root.left.left = TreeNode(1)\n",
        "  root.left.right = TreeNode(3)\n",
        "  root.right.left = TreeNode(5)\n",
        "  root.right.right = TreeNode(6)\n",
        "  root.right.left.left = TreeNode(7)\n",
        "  root.right.left.right = TreeNode(8)\n",
        "  root.right.right.left = TreeNode(9)\n",
        "  print(\"Maximum Path Sum: \" + str(find_maximum_path_sum(root)))\n",
        "\n",
        "  root = TreeNode(-1)\n",
        "  root.left = TreeNode(-3)\n",
        "  print(\"Maximum Path Sum: \" + str(find_maximum_path_sum(root)))\n",
        "\n",
        "\n",
        "main()"
      ],
      "execution_count": null,
      "outputs": [
        {
          "output_type": "error",
          "ename": "NameError",
          "evalue": "ignored",
          "traceback": [
            "\u001b[0;31m---------------------------------------------------------------------------\u001b[0m",
            "\u001b[0;31mNameError\u001b[0m                                 Traceback (most recent call last)",
            "\u001b[0;32m<ipython-input-19-1bb93093d042>\u001b[0m in \u001b[0;36m<module>\u001b[0;34m()\u001b[0m\n\u001b[1;32m     38\u001b[0m \u001b[0;34m\u001b[0m\u001b[0m\n\u001b[1;32m     39\u001b[0m \u001b[0;34m\u001b[0m\u001b[0m\n\u001b[0;32m---> 40\u001b[0;31m \u001b[0mmain\u001b[0m\u001b[0;34m(\u001b[0m\u001b[0;34m)\u001b[0m\u001b[0;34m\u001b[0m\u001b[0;34m\u001b[0m\u001b[0m\n\u001b[0m",
            "\u001b[0;32m<ipython-input-19-1bb93093d042>\u001b[0m in \u001b[0;36mmain\u001b[0;34m()\u001b[0m\n\u001b[1;32m     23\u001b[0m   \u001b[0mroot\u001b[0m\u001b[0;34m.\u001b[0m\u001b[0mright\u001b[0m \u001b[0;34m=\u001b[0m \u001b[0mTreeNode\u001b[0m\u001b[0;34m(\u001b[0m\u001b[0;36m3\u001b[0m\u001b[0;34m)\u001b[0m\u001b[0;34m\u001b[0m\u001b[0;34m\u001b[0m\u001b[0m\n\u001b[1;32m     24\u001b[0m \u001b[0;34m\u001b[0m\u001b[0m\n\u001b[0;32m---> 25\u001b[0;31m   \u001b[0mprint\u001b[0m\u001b[0;34m(\u001b[0m\u001b[0;34m\"Maximum Path Sum: \"\u001b[0m \u001b[0;34m+\u001b[0m \u001b[0mstr\u001b[0m\u001b[0;34m(\u001b[0m\u001b[0mfind_maximum_path_sum\u001b[0m\u001b[0;34m(\u001b[0m\u001b[0mroot\u001b[0m\u001b[0;34m)\u001b[0m\u001b[0;34m)\u001b[0m\u001b[0;34m)\u001b[0m\u001b[0;34m\u001b[0m\u001b[0;34m\u001b[0m\u001b[0m\n\u001b[0m\u001b[1;32m     26\u001b[0m   \u001b[0mroot\u001b[0m\u001b[0;34m.\u001b[0m\u001b[0mleft\u001b[0m\u001b[0;34m.\u001b[0m\u001b[0mleft\u001b[0m \u001b[0;34m=\u001b[0m \u001b[0mTreeNode\u001b[0m\u001b[0;34m(\u001b[0m\u001b[0;36m1\u001b[0m\u001b[0;34m)\u001b[0m\u001b[0;34m\u001b[0m\u001b[0;34m\u001b[0m\u001b[0m\n\u001b[1;32m     27\u001b[0m   \u001b[0mroot\u001b[0m\u001b[0;34m.\u001b[0m\u001b[0mleft\u001b[0m\u001b[0;34m.\u001b[0m\u001b[0mright\u001b[0m \u001b[0;34m=\u001b[0m \u001b[0mTreeNode\u001b[0m\u001b[0;34m(\u001b[0m\u001b[0;36m3\u001b[0m\u001b[0;34m)\u001b[0m\u001b[0;34m\u001b[0m\u001b[0;34m\u001b[0m\u001b[0m\n",
            "\u001b[0;32m<ipython-input-19-1bb93093d042>\u001b[0m in \u001b[0;36mfind_maximum_path_sum\u001b[0;34m(root)\u001b[0m\n\u001b[1;32m     13\u001b[0m   \u001b[0;31m# TODO: Write your code here\u001b[0m\u001b[0;34m\u001b[0m\u001b[0;34m\u001b[0m\u001b[0;34m\u001b[0m\u001b[0m\n\u001b[1;32m     14\u001b[0m \u001b[0;34m\u001b[0m\u001b[0m\n\u001b[0;32m---> 15\u001b[0;31m   \u001b[0mallPaths\u001b[0m \u001b[0;34m=\u001b[0m \u001b[0mgetAllPaths\u001b[0m\u001b[0;34m(\u001b[0m\u001b[0;34m)\u001b[0m\u001b[0;34m\u001b[0m\u001b[0;34m\u001b[0m\u001b[0m\n\u001b[0m\u001b[1;32m     16\u001b[0m   \u001b[0;32mreturn\u001b[0m \u001b[0mmax\u001b[0m\u001b[0;34m(\u001b[0m\u001b[0mgetSumForAllPathswithSameRootNode\u001b[0m\u001b[0;34m(\u001b[0m\u001b[0mallPaths\u001b[0m\u001b[0;34m)\u001b[0m\u001b[0;34m)\u001b[0m\u001b[0;34m\u001b[0m\u001b[0;34m\u001b[0m\u001b[0m\n\u001b[1;32m     17\u001b[0m \u001b[0;34m\u001b[0m\u001b[0m\n",
            "\u001b[0;31mNameError\u001b[0m: name 'getAllPaths' is not defined"
          ]
        }
      ]
    },
    {
      "cell_type": "code",
      "metadata": {
        "id": "8ZAq8WhCi1f6"
      },
      "source": [
        ""
      ],
      "execution_count": null,
      "outputs": []
    },
    {
      "cell_type": "markdown",
      "metadata": {
        "id": "UbcPrAwHM6jd"
      },
      "source": [
        "# Chapter 7. Object Oreinted Design"
      ]
    },
    {
      "cell_type": "markdown",
      "metadata": {
        "id": "LNXmofiQM_4U"
      },
      "source": [
        "### Question 3. Parking Garage Amit"
      ]
    },
    {
      "cell_type": "code",
      "metadata": {
        "id": "Ju-w32oyNLwI"
      },
      "source": [
        "class Parking:\n",
        "  def __init__(self, spaces):\n",
        "    self.spaces = spaces\n",
        "    self.full_spaces = 0\n",
        "  \n",
        "  def someoneLeft():\n",
        "    self.full_spaces -= 1\n",
        "\n",
        "  def someoneCame():\n",
        "    if self.full_spaces >= self.spaces:\n",
        "      print(\"bro there are no spaces\")\n",
        "    else: \n",
        "      self.full_spaces += 1 "
      ],
      "execution_count": null,
      "outputs": []
    },
    {
      "cell_type": "markdown",
      "metadata": {
        "id": "SsKPCukRRZa2"
      },
      "source": [
        "### Question 4. Jukebox Amit "
      ]
    },
    {
      "cell_type": "code",
      "metadata": {
        "id": "xueYAYO9RggV"
      },
      "source": [
        "class JukeBox:\n",
        "  def __init__(self):\n",
        "    self.artists = {}\n",
        "  "
      ],
      "execution_count": null,
      "outputs": []
    },
    {
      "cell_type": "markdown",
      "metadata": {
        "id": "NdYW4u-iaaoo"
      },
      "source": [
        "# LEETCODE PROBLEMS"
      ]
    },
    {
      "cell_type": "markdown",
      "metadata": {
        "id": "q1eNHWSFaf7_"
      },
      "source": [
        "### 1086. High Five"
      ]
    },
    {
      "cell_type": "code",
      "metadata": {
        "id": "D1tsiunGafK-"
      },
      "source": [
        "class Solution:\n",
        "    def highFive(self, items: List[List[int]]) -> List[List[int]]:\n",
        "        new_list = [] #Put all the values for 1 Id in here\n",
        "        id_list = [] #IDs from items list\n",
        "        fin_list = {}\n",
        "        \n",
        "        items.sort()\n",
        "        \n",
        "        # Looping through list and puts the ids into id_list\n",
        "        for j in range(len(items)):\n",
        "            if items[j][0] not in fin_list:\n",
        "                id_list.append(items[j][0])\n",
        "                fin_list[items[j][0]] = []\n",
        "                \n",
        "            fin_list[items[j][0]].append(items[j][1])\n",
        "            fin_list[items[j][0]].sort()\n",
        "            \n",
        "        for i in fin_list:\n",
        "            fin_list[i] = (sum(fin_list[i][-5:])//5)\n",
        "        \n",
        "        # return sort(fin_list.items())\n",
        "        return fin_list.items()"
      ],
      "execution_count": null,
      "outputs": []
    }
  ]
}